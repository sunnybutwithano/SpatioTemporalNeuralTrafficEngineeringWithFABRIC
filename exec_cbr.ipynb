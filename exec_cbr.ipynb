{
 "cells": [
  {
   "cell_type": "markdown",
   "metadata": {
    "jp-MarkdownHeadingCollapsed": true,
    "tags": []
   },
   "source": [
    "## Execute constant bit rate experiment\n",
    "\n",
    "For this section, you will need an SSH session on the “router” node and one on the “romeo” node.\n",
    "\n",
    "On the “router”, set a constant bit rate of 1000 Kbits/second with\n",
    "\n",
    "``` bash\n",
    "bash rate-set.sh 1000Kbit\n",
    "```\n",
    "\n",
    "(The first time you run it, you may see an error referencing a problem deleting a `qdisc`, but you can safely ignore this error.)\n",
    "\n",
    "Note: you can specify a data rate in Kbits/second using `Kbit` or in Mbits/second using `Mbit`.\n",
    "\n",
    "Then, on the client (“romeo”), start the DASH player with the “basic” adaptation policy:\n",
    "\n",
    "``` bash\n",
    "python3 ~/AStream/dist/client/dash_client.py -m http://juliet/media/BigBuckBunny/4sec/BigBuckBunny_4s.mpd -p 'basic' -d\n",
    "```\n",
    "\n",
    "Leave this running for a while. Then, you can interrupt the DASH client with Ctrl+C.\n",
    "\n",
    "To understand the performance of the DASH policy, we can look at the logs produced by the client. These will be located inside a directory named `ASTREAM_LOGS` in your home directory on the “romeo” node. Use\n",
    "\n",
    "``` bash\n",
    "ls ~/ASTREAM_LOGS\n",
    "```\n",
    "\n",
    "to find these.\n",
    "\n",
    "In the data analysis section, we will use these logs - specifically the one that begins with `DASH_BUFFER_LOG_` - to understand the video adaptation policy that was applied in this experiment. We will copy the file associated with *this* experiment to `~/ASTREAM_LOGS/DASH_BUFFER_LOG_last.csv` with\n",
    "\n",
    "``` bash\n",
    "cp $(ls -t1  ~/ASTREAM_LOGS/DASH_BUFFER_LOG_*  | head -n 1 ) ~/ASTREAM_LOGS/DASH_BUFFER_LOG-last.csv\n",
    "```\n",
    "\n",
    "Also reconstruct the video that was delivered to the client. Use\n",
    "\n",
    "``` bash\n",
    "suffix=$(ls -lt | grep \"TEMP_\" | head -n 1 | cut -f2 -d\"_\")\n",
    "cd ~/TEMP_$suffix\n",
    "rm -f ~/BigBuckBunny.mp4 # if it exists\n",
    "cat BigBuckBunny_4s_init.mp4 $(ls -vx BigBuckBunny_*.m4s) > BigBuckBunny_tmp.mp4\n",
    "ffmpeg -i  BigBuckBunny_tmp.mp4 -c copy ~/BigBuckBunny.mp4\n",
    "cd ~\n",
    "```\n",
    "\n",
    "to combine the video segments into a `BigBuckBunny.mp4` file in your home directory."
   ]
  }
 ],
 "metadata": {
  "kernelspec": {
   "display_name": "Python 3 (ipykernel)",
   "language": "python",
   "name": "python3"
  },
  "language_info": {
   "codemirror_mode": {
    "name": "ipython",
    "version": 3
   },
   "file_extension": ".py",
   "mimetype": "text/x-python",
   "name": "python",
   "nbconvert_exporter": "python",
   "pygments_lexer": "ipython3",
   "version": "3.10.6"
  }
 },
 "nbformat": 4,
 "nbformat_minor": 4
}
